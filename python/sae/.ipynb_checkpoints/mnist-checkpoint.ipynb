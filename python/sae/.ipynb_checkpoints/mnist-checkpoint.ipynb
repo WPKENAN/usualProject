{
 "cells": [
  {
   "cell_type": "code",
   "execution_count": 15,
   "metadata": {},
   "outputs": [
    {
     "data": {
      "image/png": "[encoded data removed]",
      "text/plain": [
       "<matplotlib.figure.Figure at 0x24192602cf8>"
      ]
     },
     "metadata": {},
     "output_type": "display_data"
    },
    {
     "name": "stdout",
     "output_type": "stream",
     "text": [
      "(60000, 784) (60000,)\n"
     ]
    }
   ],
   "source": [
    "import numpy as np\n",
    "import os\n",
    "import struct\n",
    "np.random.seed(2018)\n",
    "\n",
    "from keras.datasets import mnist\n",
    "from keras.models import Model\n",
    "from keras.layers import Dense,Input\n",
    "from keras.utils.np_utils import to_categorical\n",
    "import matplotlib.pyplot as plt\n",
    "%matplotlib inline\n",
    "# 训练集 shape (60,000,28*28) 测试集 shape (10000,)\n",
    "def load_mnist(path,kind='train'):\n",
    "    ''' load MNIST data from path'''\n",
    "    labels_path=os.path.join(path,'%s-labels.idx1-ubyte' % kind)\n",
    "    images_path=os.path.join(path,'%s-images.idx3-ubyte' % kind)\n",
    "\n",
    "    with open(labels_path,'rb') as lbpath:\n",
    "        magic,n=struct.unpack('>II',lbpath.read(8))\n",
    "        labels=np.fromfile(lbpath,dtype=np.uint8)\n",
    "    with open(images_path,'rb') as impath:\n",
    "        magic,num,rows,cols=struct.unpack('>IIII',impath.read(16))\n",
    "        images=np.fromfile(impath,dtype=np.uint8).reshape(len(labels),784)\n",
    "    return images,labels\n",
    "\n",
    "X_train,y_train=load_mnist('D:\\\\github\\\\Data\\\\MNIST_data','train')\n",
    "X_test,y_test=load_mnist('D:\\\\github\\\\Data\\\\MNIST_data','t10k')\n",
    "y_train_cate= to_categorical(y_train, num_classes=10)\n",
    "y_test_cate= to_categorical(y_test, num_classes=10)\n",
    "\n",
    "# 显示mnist图片\n",
    "# 图形2*5 灰度值\n",
    "fig,ax=plt.subplots(nrows=2,ncols=5,sharex=True,sharey=True)\n",
    "ax=ax.flatten()\n",
    "for i in range(10):\n",
    "    img=X_train[y_train==i][1].reshape(28,28)\n",
    "    ax[i].imshow(img,cmap='Greys',interpolation='nearest')\n",
    "\n",
    "ax[0].set_xticks([])\n",
    "ax[0].set_yticks([])\n",
    "plt.tight_layout()\n",
    "plt.show()\n",
    "print(X_train.shape,y_train.shape)"
   ]
  },
  {
   "cell_type": "code",
   "execution_count": 16,
   "metadata": {},
   "outputs": [
    {
     "name": "stdout",
     "output_type": "stream",
     "text": [
      "(60000, 784) (10000, 784)\n"
     ]
    }
   ],
   "source": [
    "# 数据预处理\n",
    "X_train=X_train.astype('float32')/255-0.5 # minmax_normalized(归一化在（-0.5,0.5）)之间\n",
    "X_test=X_test.astype('float32')/255-0.5 # minmax_normalized\n",
    "X_train_len=X_train.shape[0]\n",
    "X_test_len=X_test.shape[0]\n",
    "\n",
    "X_train=X_train.reshape((X_train_len,-1))\n",
    "X_test=X_test.reshape((X_test_len,-1))\n",
    "\n",
    "print(X_train.shape,X_test.shape)"
   ]
  },
  {
   "cell_type": "code",
   "execution_count": 17,
   "metadata": {},
   "outputs": [
    {
     "name": "stdout",
     "output_type": "stream",
     "text": [
      "Epoch 1/20\n",
      "60000/60000 [==============================] - 12s 192us/step - loss: 0.0496\n",
      "Epoch 2/20\n",
      "60000/60000 [==============================] - 1s 15us/step - loss: 0.0248\n",
      "Epoch 3/20\n",
      "60000/60000 [==============================] - 1s 14us/step - loss: 0.0210\n",
      "Epoch 4/20\n",
      "60000/60000 [==============================] - 1s 14us/step - loss: 0.0193\n",
      "Epoch 5/20\n",
      "60000/60000 [==============================] - 1s 14us/step - loss: 0.0183\n",
      "Epoch 6/20\n",
      "60000/60000 [==============================] - 1s 14us/step - loss: 0.0176\n",
      "Epoch 7/20\n",
      "60000/60000 [==============================] - 1s 14us/step - loss: 0.0173\n",
      "Epoch 8/20\n",
      "60000/60000 [==============================] - 1s 14us/step - loss: 0.0169\n",
      "Epoch 9/20\n",
      "60000/60000 [==============================] - 1s 14us/step - loss: 0.0166\n",
      "Epoch 10/20\n",
      "60000/60000 [==============================] - 1s 13us/step - loss: 0.0164\n",
      "Epoch 11/20\n",
      "60000/60000 [==============================] - 1s 14us/step - loss: 0.0163\n",
      "Epoch 12/20\n",
      "60000/60000 [==============================] - 1s 14us/step - loss: 0.0162\n",
      "Epoch 13/20\n",
      "60000/60000 [==============================] - 1s 15us/step - loss: 0.0161\n",
      "Epoch 14/20\n",
      "60000/60000 [==============================] - 1s 14us/step - loss: 0.0160\n",
      "Epoch 15/20\n",
      "60000/60000 [==============================] - 1s 14us/step - loss: 0.0158\n",
      "Epoch 16/20\n",
      "60000/60000 [==============================] - 1s 14us/step - loss: 0.0158\n",
      "Epoch 17/20\n",
      "60000/60000 [==============================] - 1s 14us/step - loss: 0.0156\n",
      "Epoch 18/20\n",
      "60000/60000 [==============================] - 1s 14us/step - loss: 0.0155\n",
      "Epoch 19/20\n",
      "60000/60000 [==============================] - 1s 14us/step - loss: 0.0154\n",
      "Epoch 20/20\n",
      "60000/60000 [==============================] - 1s 14us/step - loss: 0.0153\n"
     ]
    }
   ],
   "source": [
    "input_img=Input(shape=(784,))\n",
    "# 编码层\n",
    "encoded=Dense(128,activation='relu',name='encoded_hidden1')(input_img)\n",
    "encoder_output=Dense(64,activation='relu',name='encoded_hidden2')(encoded)\n",
    "LR=Dense(10,activation='softmax',name='LR')(encoder_output)\n",
    "\n",
    "# 解码层\n",
    "decoded=Dense(64,activation='relu',name='decoded_hidden2')(encoder_output)\n",
    "decoded=Dense(128,activation='relu',name='decoded_hidden3')(decoded)\n",
    "decoded=Dense(784,activation='tanh',name='decoded_output')(decoded)\n",
    "\n",
    "# 构建自编码模型\n",
    "autoencoder=Model(inputs=input_img,outputs=decoded)\n",
    "\n",
    "# complile autoencoder 设置自编码的优化参数\n",
    "autoencoder.compile(optimizer='adam',loss='mse')\n",
    "# train\n",
    "hist=autoencoder.fit(X_train,X_train,epochs=20,batch_size=250,shuffle=True)\n"
   ]
  },
  {
   "cell_type": "code",
   "execution_count": 20,
   "metadata": {},
   "outputs": [
    {
     "name": "stdout",
     "output_type": "stream",
     "text": [
      "Epoch 1/20\n",
      "60000/60000 [==============================] - 1s 17us/step - loss: 0.0276 - categorical_accuracy: 0.9913\n",
      "Epoch 2/20\n",
      "60000/60000 [==============================] - 1s 12us/step - loss: 0.0261 - categorical_accuracy: 0.9917\n",
      "Epoch 3/20\n",
      "60000/60000 [==============================] - 1s 11us/step - loss: 0.0259 - categorical_accuracy: 0.9918\n",
      "Epoch 4/20\n",
      "60000/60000 [==============================] - 1s 11us/step - loss: 0.0242 - categorical_accuracy: 0.9924\n",
      "Epoch 5/20\n",
      "60000/60000 [==============================] - 1s 11us/step - loss: 0.0224 - categorical_accuracy: 0.9928\n",
      "Epoch 6/20\n",
      "60000/60000 [==============================] - 1s 11us/step - loss: 0.0233 - categorical_accuracy: 0.9922\n",
      "Epoch 7/20\n",
      "60000/60000 [==============================] - 1s 11us/step - loss: 0.0227 - categorical_accuracy: 0.9922\n",
      "Epoch 8/20\n",
      "60000/60000 [==============================] - 1s 11us/step - loss: 0.0205 - categorical_accuracy: 0.9935\n",
      "Epoch 9/20\n",
      "60000/60000 [==============================] - 1s 11us/step - loss: 0.0194 - categorical_accuracy: 0.9938\n",
      "Epoch 10/20\n",
      "60000/60000 [==============================] - 1s 11us/step - loss: 0.0186 - categorical_accuracy: 0.9940\n",
      "Epoch 11/20\n",
      "60000/60000 [==============================] - 1s 11us/step - loss: 0.0182 - categorical_accuracy: 0.9947\n",
      "Epoch 12/20\n",
      "60000/60000 [==============================] - 1s 11us/step - loss: 0.0175 - categorical_accuracy: 0.9943\n",
      "Epoch 13/20\n",
      "60000/60000 [==============================] - 1s 11us/step - loss: 0.0179 - categorical_accuracy: 0.9940\n",
      "Epoch 14/20\n",
      "60000/60000 [==============================] - 1s 11us/step - loss: 0.0171 - categorical_accuracy: 0.9944\n",
      "Epoch 15/20\n",
      "60000/60000 [==============================] - 1s 11us/step - loss: 0.0151 - categorical_accuracy: 0.9952\n",
      "Epoch 16/20\n",
      "60000/60000 [==============================] - 1s 11us/step - loss: 0.0148 - categorical_accuracy: 0.9953\n",
      "Epoch 17/20\n",
      "60000/60000 [==============================] - 1s 11us/step - loss: 0.0180 - categorical_accuracy: 0.9937\n",
      "Epoch 18/20\n",
      "60000/60000 [==============================] - 1s 11us/step - loss: 0.0139 - categorical_accuracy: 0.9959\n",
      "Epoch 19/20\n",
      "60000/60000 [==============================] - 1s 11us/step - loss: 0.0148 - categorical_accuracy: 0.9951\n",
      "Epoch 20/20\n",
      "60000/60000 [==============================] - 1s 11us/step - loss: 0.0127 - categorical_accuracy: 0.9959\n",
      "10000/10000 [==============================] - 0s 31us/step\n",
      "[0.10458710297892194, 0.9758]\n",
      "_________________________________________________________________\n",
      "Layer (type)                 Output Shape              Param #   \n",
      "=================================================================\n",
      "input_1 (InputLayer)         (None, 784)               0         \n",
      "_________________________________________________________________\n",
      "encoded_hidden1 (Dense)      (None, 128)               100480    \n",
      "_________________________________________________________________\n",
      "encoded_hidden2 (Dense)      (None, 64)                8256      \n",
      "_________________________________________________________________\n",
      "LR (Dense)                   (None, 10)                650       \n",
      "=================================================================\n",
      "Total params: 109,386\n",
      "Trainable params: 109,386\n",
      "Non-trainable params: 0\n",
      "_________________________________________________________________\n",
      "None\n"
     ]
    }
   ],
   "source": [
    "#采用编码层的网络结构，从新构成一个新的model，此model的参数跟原来autoencode的训练的参数一样。\n",
    "encoder=Model(inputs=input_img,outputs=LR)\n",
    "encoder.compile(optimizer='adam',loss='categorical_crossentropy',metrics=['categorical_accuracy'])\n",
    "encoder.fit(X_train,y_train_cate,epochs=20,batch_size=250,shuffle=True)\n",
    "score=encoder.evaluate(X_test,y_test_cate)\n",
    "print(score)\n",
    "print(encoder.summary())\n"
   ]
  },
  {
   "cell_type": "code",
   "execution_count": null,
   "metadata": {},
   "outputs": [],
   "source": []
  },
  {
   "cell_type": "code",
   "execution_count": null,
   "metadata": {},
   "outputs": [],
   "source": []
  },
  {
   "cell_type": "code",
   "execution_count": null,
   "metadata": {},
   "outputs": [],
   "source": []
  }
 ],
 "metadata": {
  "kernelspec": {
   "display_name": "Python 3",
   "language": "python",
   "name": "python3"
  },
  "language_info": {
   "codemirror_mode": {
    "name": "ipython",
    "version": 3
   },
   "file_extension": ".py",
   "mimetype": "text/x-python",
   "name": "python",
   "nbconvert_exporter": "python",
   "pygments_lexer": "ipython3",
   "version": "3.6.7"
  }
 },
 "nbformat": 4,
 "nbformat_minor": 2
}
